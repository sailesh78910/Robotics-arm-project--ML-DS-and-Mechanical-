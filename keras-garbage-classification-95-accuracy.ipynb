{
 "cells": [
  {
   "cell_type": "markdown",
   "metadata": {},
   "source": [
    "<div style=\"color:#FF1F26;\n",
    "           display:fill;\n",
    "           border-style: solid;\n",
    "           border-color:#C1C1C1;\n",
    "           font-size:16px;\n",
    "           font-family:Calibri;\n",
    "           background-color:#B75351;\">\n",
    "<h2 style=\"text-align: center;\n",
    "           padding: 10px;\n",
    "           color:#FFFFFF;\">\n",
    "======= Garbage Classification using TransfearLearning with 94%+ Accuracy =======\n",
    "</h2>\n",
    "</div>"
   ]
  },
  {
   "cell_type": "markdown",
   "metadata": {},
   "source": [
    "<div style=\"padding:10px;\n",
    "            color:white;\n",
    "            margin:5;\n",
    "            font-size:170%;\n",
    "            text-align:left;\n",
    "            display:fill;\n",
    "            border-radius:15px;\n",
    "            background-color:#294B8E;\n",
    "            overflow:hidden;\n",
    "            font-weight:700\"> Table of Contents</div>"
   ]
  },
  {
   "cell_type": "markdown",
   "metadata": {},
   "source": [
    "<a id=\"toc\"></a>\n",
    "- [1. Setup](#1)\n",
    "    - [1.1. Package and Library](#1.1)\n",
    "    - [1.2. Load the Data](#1.2)\n",
    "- [2. Spliting](#2)\n",
    "- [3. Data Explorations](#3)\n",
    "- [4. Data Augmentation](#4)\n",
    "- [5. Modeling](#5)\n",
    "- [6. Evaluation](#6)\n",
    "- [7. Predected Images](#7)"
   ]
  },
  {
   "cell_type": "markdown",
   "metadata": {},
   "source": [
    "# <a id=\"1\"></a>\n",
    "<div style=\"padding:10px;\n",
    "            color:white;\n",
    "            margin:5;\n",
    "            font-size:170%;\n",
    "            text-align:left;\n",
    "            display:fill;\n",
    "            border-radius:15px;\n",
    "            background-color:#294B8E;\n",
    "            overflow:hidden;\n",
    "            font-weight:700\">1. Setup</div>"
   ]
  },
  {
   "cell_type": "markdown",
   "metadata": {},
   "source": [
    "<a id=\"1.1\"></a>\n",
    "# <b><span style='color:#8D6D9B'>1.1. Package and Library</span></b>"
   ]
  },
  {
   "cell_type": "code",
   "execution_count": 8,
   "metadata": {
    "execution": {
     "iopub.execute_input": "2024-09-17T21:52:08.914644Z",
     "iopub.status.busy": "2024-09-17T21:52:08.914061Z",
     "iopub.status.idle": "2024-09-17T21:52:13.013872Z",
     "shell.execute_reply": "2024-09-17T21:52:13.013007Z",
     "shell.execute_reply.started": "2024-09-17T21:52:08.914587Z"
    },
    "trusted": true
   },
   "outputs": [
    {
     "ename": "ModuleNotFoundError",
     "evalue": "No module named 'pandas'",
     "output_type": "error",
     "traceback": [
      "\u001b[1;31m---------------------------------------------------------------------------\u001b[0m",
      "\u001b[1;31mModuleNotFoundError\u001b[0m                       Traceback (most recent call last)",
      "Cell \u001b[1;32mIn[8], line 2\u001b[0m\n\u001b[0;32m      1\u001b[0m \u001b[38;5;28;01mimport\u001b[39;00m\u001b[38;5;250m \u001b[39m\u001b[38;5;21;01mos\u001b[39;00m\n\u001b[1;32m----> 2\u001b[0m \u001b[38;5;28;01mimport\u001b[39;00m\u001b[38;5;250m \u001b[39m\u001b[38;5;21;01mpandas\u001b[39;00m\u001b[38;5;250m \u001b[39m\u001b[38;5;28;01mas\u001b[39;00m\u001b[38;5;250m \u001b[39m\u001b[38;5;21;01mpd\u001b[39;00m \n\u001b[0;32m      3\u001b[0m \u001b[38;5;28;01mimport\u001b[39;00m\u001b[38;5;250m \u001b[39m\u001b[38;5;21;01mnumpy\u001b[39;00m\u001b[38;5;250m \u001b[39m\u001b[38;5;28;01mas\u001b[39;00m\u001b[38;5;250m \u001b[39m\u001b[38;5;21;01mnp\u001b[39;00m \n\u001b[0;32m      4\u001b[0m \u001b[38;5;28;01mimport\u001b[39;00m\u001b[38;5;250m \u001b[39m\u001b[38;5;21;01mseaborn\u001b[39;00m\u001b[38;5;250m \u001b[39m\u001b[38;5;28;01mas\u001b[39;00m\u001b[38;5;250m \u001b[39m\u001b[38;5;21;01msns\u001b[39;00m\n",
      "\u001b[1;31mModuleNotFoundError\u001b[0m: No module named 'pandas'"
     ]
    }
   ],
   "source": [
    "import os\n",
    "import pandas as pd \n",
    "import numpy as np \n",
    "import seaborn as sns\n",
    "import matplotlib.pyplot as plt\n",
    "import cv2 \n",
    "import tensorflow as tf\n",
    "import random\n",
    "import shutil             # to copy images to another directory \n",
    "from sklearn.model_selection import train_test_split\n",
    "from sklearn.metrics import classification_report , confusion_matrix\n",
    "\n",
    "from tqdm import tqdm\n",
    "from keras.layers import Conv2D, MaxPooling2D , BatchNormalization ,Dropout ,Flatten , Dense , Input , Rescaling , Resizing\n",
    "from keras.models import Sequential\n",
    "from tensorflow.keras.preprocessing.image import ImageDataGenerator, array_to_img, img_to_array, load_img\n",
    "from tensorflow.keras.applications import MobileNetV2\n",
    "\n",
    "import warnings\n",
    "\n",
    "with warnings.catch_warnings():\n",
    "    warnings.simplefilter(\"ignore\")\n",
    "    \n",
    "plt.style.use('ggplot')"
   ]
  },
  {
   "cell_type": "markdown",
   "metadata": {},
   "source": [
    "<a id=\"1.2\"></a>\n",
    "# <b><span style='color:#8D6D9B'>1.2. Load The Data</span></b>"
   ]
  },
  {
   "cell_type": "code",
   "execution_count": null,
   "metadata": {
    "execution": {
     "iopub.execute_input": "2024-09-17T21:52:13.015765Z",
     "iopub.status.busy": "2024-09-17T21:52:13.015089Z",
     "iopub.status.idle": "2024-09-17T21:52:13.020611Z",
     "shell.execute_reply": "2024-09-17T21:52:13.019595Z",
     "shell.execute_reply.started": "2024-09-17T21:52:13.015717Z"
    },
    "trusted": true
   },
   "outputs": [],
   "source": [
    "dataDirList = ['/kaggle/input/garbage-classification/Garbage classification/Garbage classification/' , \n",
    "              '/kaggle/input/d/mostafaabla/garbage-classification/garbage_classification/']\n",
    "\n",
    "selectedClasses = ['metal', 'glass', 'paper', 'trash', 'cardboard', 'plastic' ,'white-glass']"
   ]
  },
  {
   "cell_type": "code",
   "execution_count": 7,
   "metadata": {
    "execution": {
     "iopub.execute_input": "2024-09-17T21:52:13.023347Z",
     "iopub.status.busy": "2024-09-17T21:52:13.021801Z",
     "iopub.status.idle": "2024-09-17T21:52:13.081113Z",
     "shell.execute_reply": "2024-09-17T21:52:13.080256Z",
     "shell.execute_reply.started": "2024-09-17T21:52:13.023287Z"
    },
    "trusted": true
   },
   "outputs": [
    {
     "ename": "NameError",
     "evalue": "name 'dataDirList' is not defined",
     "output_type": "error",
     "traceback": [
      "\u001b[1;31m---------------------------------------------------------------------------\u001b[0m",
      "\u001b[1;31mNameError\u001b[0m                                 Traceback (most recent call last)",
      "Cell \u001b[1;32mIn[7], line 3\u001b[0m\n\u001b[0;32m      1\u001b[0m imgPaths \u001b[38;5;241m=\u001b[39m []\n\u001b[0;32m      2\u001b[0m labels \u001b[38;5;241m=\u001b[39m []\n\u001b[1;32m----> 3\u001b[0m \u001b[38;5;28;01mfor\u001b[39;00m dataDir \u001b[38;5;129;01min\u001b[39;00m \u001b[43mdataDirList\u001b[49m:\n\u001b[0;32m      4\u001b[0m     \u001b[38;5;28;01mfor\u001b[39;00m className \u001b[38;5;129;01min\u001b[39;00m os\u001b[38;5;241m.\u001b[39mlistdir(dataDir):\n\u001b[0;32m      5\u001b[0m         \u001b[38;5;28;01mif\u001b[39;00m className \u001b[38;5;129;01min\u001b[39;00m selectedClass:\n",
      "\u001b[1;31mNameError\u001b[0m: name 'dataDirList' is not defined"
     ]
    }
   ],
   "source": [
    "imgPaths = []\n",
    "labels = []\n",
    "for dataDir in dataDirList:\n",
    "    for className in os.listdir(dataDir):\n",
    "        if className in selectedClass:\n",
    "            classPath = os.path.join(dataDir,className)\n",
    "        for img in os.listdir(classPath):\n",
    "            imgPath = os.path.join(classPath,img)\n",
    "            imgPaths.append(imgPath)\n",
    "            if className == \"white-glass\":\n",
    "                className = \"glass\"\n",
    "            labels.append(className)\n",
    "        \n",
    "\n",
    "df = pd.DataFrame({\n",
    "    'imgPath':imgPaths,\n",
    "    'label':labels\n",
    "})\n",
    "\n",
    "df = df.sample(frac = 1).reset_index(drop = True)\n",
    "\n",
    "df"
   ]
  },
  {
   "cell_type": "markdown",
   "metadata": {},
   "source": [
    "# <a id=\"2\"></a>\n",
    "<div style=\"padding:10px;\n",
    "            color:white;\n",
    "            margin:5;\n",
    "            font-size:170%;\n",
    "            text-align:left;\n",
    "            display:fill;\n",
    "            border-radius:15px;\n",
    "            background-color:#294B8E;\n",
    "            overflow:hidden;\n",
    "            font-weight:700\">2. Spliting</div>"
   ]
  },
  {
   "cell_type": "code",
   "execution_count": 3,
   "metadata": {
    "execution": {
     "iopub.execute_input": "2024-09-17T21:52:13.083658Z",
     "iopub.status.busy": "2024-09-17T21:52:13.083318Z",
     "iopub.status.idle": "2024-09-17T21:52:13.091403Z",
     "shell.execute_reply": "2024-09-17T21:52:13.090566Z",
     "shell.execute_reply.started": "2024-09-17T21:52:13.083623Z"
    },
    "trusted": true
   },
   "outputs": [],
   "source": [
    "# get the ratio such as 15% of each class for testing \n",
    " # shuffling , reset index\n",
    "\n",
    "def DataFrameSplitting(df,ratio,classesList):\n",
    "    trainDf = pd.DataFrame(columns = ['imgPath','label'])\n",
    "    testDf = pd.DataFrame(columns = ['imgPath','label'])\n",
    "    for clas in classesList:\n",
    "        tempDf = df[df['label'] == clas]\n",
    "        lastIndex = int(len(tempDf)*ratio)\n",
    "        trainClassDf = tempDf[:lastIndex]\n",
    "        testClassDf = tempDf[lastIndex:]\n",
    "        trainDf = pd.concat([trainDf,trainClassDf],axis = 0)\n",
    "        testDf = pd.concat([testDf,testClassDf],axis = 0)\n",
    "\n",
    "    return trainDf.sample(frac=1).reset_index(drop = True),testDf.sample(frac = 1).reset_index(drop = True)"
   ]
  },
  {
   "cell_type": "code",
   "execution_count": 6,
   "metadata": {
    "execution": {
     "iopub.execute_input": "2024-09-17T21:52:13.093043Z",
     "iopub.status.busy": "2024-09-17T21:52:13.092669Z",
     "iopub.status.idle": "2024-09-17T21:52:13.12086Z",
     "shell.execute_reply": "2024-09-17T21:52:13.120137Z",
     "shell.execute_reply.started": "2024-09-17T21:52:13.093Z"
    },
    "trusted": true
   },
   "outputs": [
    {
     "ename": "NameError",
     "evalue": "name 'df' is not defined",
     "output_type": "error",
     "traceback": [
      "\u001b[1;31m---------------------------------------------------------------------------\u001b[0m",
      "\u001b[1;31mNameError\u001b[0m                                 Traceback (most recent call last)",
      "Cell \u001b[1;32mIn[6], line 1\u001b[0m\n\u001b[1;32m----> 1\u001b[0m classList \u001b[38;5;241m=\u001b[39m \u001b[38;5;28mlist\u001b[39m(\u001b[43mdf\u001b[49m[\u001b[38;5;124m'\u001b[39m\u001b[38;5;124mlabel\u001b[39m\u001b[38;5;124m'\u001b[39m]\u001b[38;5;241m.\u001b[39munique())\n\u001b[0;32m      2\u001b[0m trainDf , testDf \u001b[38;5;241m=\u001b[39m DataFrameSpliting(df , \u001b[38;5;241m0.85\u001b[39m , classList)\n",
      "\u001b[1;31mNameError\u001b[0m: name 'df' is not defined"
     ]
    }
   ],
   "source": [
    "classList = list(df['label'].unique())\n",
    "trainDf , testDf = DataFrameSpliting(df , 0.85 , classList)"
   ]
  },
  {
   "cell_type": "code",
   "execution_count": null,
   "metadata": {
    "execution": {
     "iopub.execute_input": "2024-09-17T21:52:13.121987Z",
     "iopub.status.busy": "2024-09-17T21:52:13.121744Z",
     "iopub.status.idle": "2024-09-17T21:52:13.125796Z",
     "shell.execute_reply": "2024-09-17T21:52:13.124892Z",
     "shell.execute_reply.started": "2024-09-17T21:52:13.121959Z"
    },
    "trusted": true
   },
   "outputs": [],
   "source": [
    "# Another way for spliting a dataframe \n",
    "\n",
    "# def splitingData(dataFrame , ratio):\n",
    "#     lastIndex = int(len(dataFrame) * ratio)\n",
    "#     trainDf = dataFrame[:lastIndex]\n",
    "#     testDf = dataFrame[lastIndex:]\n",
    "#     return trainDf , testDf"
   ]
  },
  {
   "cell_type": "code",
   "execution_count": null,
   "metadata": {
    "execution": {
     "iopub.execute_input": "2024-09-17T21:52:13.135024Z",
     "iopub.status.busy": "2024-09-17T21:52:13.134388Z",
     "iopub.status.idle": "2024-09-17T21:52:13.147969Z",
     "shell.execute_reply": "2024-09-17T21:52:13.146975Z",
     "shell.execute_reply.started": "2024-09-17T21:52:13.13498Z"
    },
    "trusted": true
   },
   "outputs": [],
   "source": [
    "trainDf"
   ]
  },
  {
   "cell_type": "code",
   "execution_count": null,
   "metadata": {
    "execution": {
     "iopub.execute_input": "2024-09-17T21:52:13.14928Z",
     "iopub.status.busy": "2024-09-17T21:52:13.148988Z",
     "iopub.status.idle": "2024-09-17T21:52:13.160026Z",
     "shell.execute_reply": "2024-09-17T21:52:13.159162Z",
     "shell.execute_reply.started": "2024-09-17T21:52:13.149248Z"
    },
    "trusted": true
   },
   "outputs": [],
   "source": [
    "trainDf['label'].value_counts()"
   ]
  },
  {
   "cell_type": "code",
   "execution_count": null,
   "metadata": {
    "execution": {
     "iopub.execute_input": "2024-09-17T21:52:13.161695Z",
     "iopub.status.busy": "2024-09-17T21:52:13.161282Z",
     "iopub.status.idle": "2024-09-17T21:52:13.175359Z",
     "shell.execute_reply": "2024-09-17T21:52:13.174352Z",
     "shell.execute_reply.started": "2024-09-17T21:52:13.161647Z"
    },
    "trusted": true
   },
   "outputs": [],
   "source": [
    "testDf"
   ]
  },
  {
   "cell_type": "code",
   "execution_count": null,
   "metadata": {
    "execution": {
     "iopub.execute_input": "2024-09-17T21:52:13.17692Z",
     "iopub.status.busy": "2024-09-17T21:52:13.176602Z",
     "iopub.status.idle": "2024-09-17T21:52:13.185238Z",
     "shell.execute_reply": "2024-09-17T21:52:13.184378Z",
     "shell.execute_reply.started": "2024-09-17T21:52:13.176871Z"
    },
    "trusted": true
   },
   "outputs": [],
   "source": [
    "testDf['label'].value_counts()"
   ]
  },
  {
   "cell_type": "markdown",
   "metadata": {},
   "source": [
    "# <a id=\"3\"></a>\n",
    "<div style=\"padding:10px;\n",
    "            color:white;\n",
    "            margin:5;\n",
    "            font-size:170%;\n",
    "            text-align:left;\n",
    "            display:fill;\n",
    "            border-radius:15px;\n",
    "            background-color:#294B8E;\n",
    "            overflow:hidden;\n",
    "            font-weight:700\">3. Data Explorations</div>"
   ]
  },
  {
   "cell_type": "code",
   "execution_count": 5,
   "metadata": {
    "execution": {
     "iopub.execute_input": "2024-09-17T21:52:13.186722Z",
     "iopub.status.busy": "2024-09-17T21:52:13.186342Z",
     "iopub.status.idle": "2024-09-17T21:52:15.973712Z",
     "shell.execute_reply": "2024-09-17T21:52:15.97264Z",
     "shell.execute_reply.started": "2024-09-17T21:52:13.186677Z"
    },
    "trusted": true
   },
   "outputs": [
    {
     "ename": "NameError",
     "evalue": "name 'df' is not defined",
     "output_type": "error",
     "traceback": [
      "\u001b[1;31m---------------------------------------------------------------------------\u001b[0m",
      "\u001b[1;31mNameError\u001b[0m                                 Traceback (most recent call last)",
      "Cell \u001b[1;32mIn[5], line 1\u001b[0m\n\u001b[1;32m----> 1\u001b[0m imgPaths \u001b[38;5;241m=\u001b[39m \u001b[43mdf\u001b[49m[\u001b[38;5;124m'\u001b[39m\u001b[38;5;124mimgPath\u001b[39m\u001b[38;5;124m'\u001b[39m]\n\u001b[0;32m      2\u001b[0m fig, axs \u001b[38;5;241m=\u001b[39m plt\u001b[38;5;241m.\u001b[39msubplots(\u001b[38;5;241m3\u001b[39m, \u001b[38;5;241m8\u001b[39m, figsize\u001b[38;5;241m=\u001b[39m(\u001b[38;5;241m25\u001b[39m, \u001b[38;5;241m10\u001b[39m))\n\u001b[0;32m      4\u001b[0m axs \u001b[38;5;241m=\u001b[39m axs\u001b[38;5;241m.\u001b[39mflatten()\n",
      "\u001b[1;31mNameError\u001b[0m: name 'df' is not defined"
     ]
    }
   ],
   "source": [
    "imgPaths = df['imgPath']\n",
    "fig, axs = plt.subplots(3, 8, figsize=(25, 10))\n",
    "\n",
    "axs = axs.flatten()\n",
    "\n",
    "for ax,imgPath in zip(axs , imgPaths):\n",
    "    label = str(imgPath).split('/')[-2]    # extract label of an imgae from a path \n",
    "    img = cv2.imread(imgPath)\n",
    "    ax.imshow(img)\n",
    "    ax.set_title(label)\n",
    "    ax.axis('off')\n",
    "    \n",
    "plt.tight_layout()\n",
    "plt.show()"
   ]
  },
  {
   "cell_type": "markdown",
   "metadata": {},
   "source": [
    "# <a id=\"4\"></a>\n",
    "<div style=\"padding:10px;\n",
    "            color:white;\n",
    "            margin:5;\n",
    "            font-size:170%;\n",
    "            text-align:left;\n",
    "            display:fill;\n",
    "            border-radius:15px;\n",
    "            background-color:#294B8E;\n",
    "            overflow:hidden;\n",
    "            font-weight:700\">4. Data Augmentation</div>"
   ]
  },
  {
   "cell_type": "code",
   "execution_count": null,
   "metadata": {
    "execution": {
     "iopub.execute_input": "2024-09-17T21:52:15.977915Z",
     "iopub.status.busy": "2024-09-17T21:52:15.977577Z",
     "iopub.status.idle": "2024-09-17T21:52:15.982451Z",
     "shell.execute_reply": "2024-09-17T21:52:15.981617Z",
     "shell.execute_reply.started": "2024-09-17T21:52:15.977878Z"
    },
    "trusted": true
   },
   "outputs": [],
   "source": [
    "datagenTrain = ImageDataGenerator(\n",
    "            rescale=1./255,\n",
    "            zoom_range=(1.0, 1.2),   # zoom in \n",
    "            horizontal_flip=True,\n",
    "            vertical_flip=True,\n",
    "            rotation_range=45,\n",
    ")"
   ]
  },
  {
   "cell_type": "code",
   "execution_count": null,
   "metadata": {
    "execution": {
     "iopub.execute_input": "2024-09-17T21:52:15.984318Z",
     "iopub.status.busy": "2024-09-17T21:52:15.983722Z",
     "iopub.status.idle": "2024-09-17T21:52:19.646249Z",
     "shell.execute_reply": "2024-09-17T21:52:19.645345Z",
     "shell.execute_reply.started": "2024-09-17T21:52:15.984275Z"
    },
    "trusted": true
   },
   "outputs": [],
   "source": [
    "IMG_SIZE = (224,224)\n",
    "\n",
    "trainGenerator = datagenTrain.flow_from_dataframe(\n",
    "    trainDf ,\n",
    "    x_col='imgPath',\n",
    "    y_col='label',\n",
    "    target_size=IMG_SIZE,\n",
    "    batch_size=64 ,                    # Generate 64 image from the datagenTrain (flipped , rotated , zoomed , ....)  at once \n",
    "    class_mode='categorical'\n",
    ")\n",
    "\n",
    "\n",
    "datagenTest = ImageDataGenerator( rescale=1./255 )\n",
    "\n",
    "testGenerator = datagenTest.flow_from_dataframe(\n",
    "    testDf ,\n",
    "    x_col='imgPath',\n",
    "    y_col='label',\n",
    "    target_size=IMG_SIZE,\n",
    "    batch_size=8 ,\n",
    "    class_mode='categorical',\n",
    "    shuffle=False\n",
    ")\n",
    "\n",
    "\n",
    "print(f\"Training set size: {trainGenerator.samples}\")\n",
    "print(f\"Testing set size: {testGenerator.samples}\")"
   ]
  },
  {
   "cell_type": "markdown",
   "metadata": {},
   "source": [
    "# <a id=\"5\"></a>\n",
    "<div style=\"padding:10px;\n",
    "            color:white;\n",
    "            margin:5;\n",
    "            font-size:170%;\n",
    "            text-align:left;\n",
    "            display:fill;\n",
    "            border-radius:15px;\n",
    "            background-color:#294B8E;\n",
    "            overflow:hidden;\n",
    "            font-weight:700\">5. Modeling </div>"
   ]
  },
  {
   "cell_type": "code",
   "execution_count": null,
   "metadata": {
    "execution": {
     "iopub.execute_input": "2024-09-17T21:52:19.647641Z",
     "iopub.status.busy": "2024-09-17T21:52:19.647329Z",
     "iopub.status.idle": "2024-09-17T21:52:21.223428Z",
     "shell.execute_reply": "2024-09-17T21:52:21.222611Z",
     "shell.execute_reply.started": "2024-09-17T21:52:19.647607Z"
    },
    "trusted": true
   },
   "outputs": [],
   "source": [
    "with tf.device('/GPU:0'):          # to use GPU\n",
    "    Model = Sequential([\n",
    "        \n",
    "#         Resizing(IMG_SIZE),\n",
    "        \n",
    "#         Rescaling(1./255),     These two steps ,we did perform them above with test and image generator \n",
    "    \n",
    "        MobileNetV2(weights='imagenet', include_top=False, input_shape=(224,224,3)),\n",
    "        \n",
    "        Flatten(),                                     # because we ignore the flatten and dense layers when include_top = False \n",
    "        \n",
    "        Dense(64,activation='relu'),\n",
    "        \n",
    "        BatchNormalization(),\n",
    "        \n",
    "        Dropout(0.08),\n",
    "\n",
    "        Dense(6 ,activation='softmax')\n",
    "    ])"
   ]
  },
  {
   "cell_type": "code",
   "execution_count": null,
   "metadata": {
    "execution": {
     "iopub.execute_input": "2024-09-17T21:52:21.224801Z",
     "iopub.status.busy": "2024-09-17T21:52:21.224501Z",
     "iopub.status.idle": "2024-09-17T21:52:21.233274Z",
     "shell.execute_reply": "2024-09-17T21:52:21.232378Z",
     "shell.execute_reply.started": "2024-09-17T21:52:21.224769Z"
    },
    "trusted": true
   },
   "outputs": [],
   "source": [
    "preTrainedModel = Model.layers[0]\n",
    "for layer in preTrainedModel.layers[:-4]:           # freez all layers except the first and last 3 layers, we will make them trainable (weghts changes with training)\n",
    "    layer.trainable = False"
   ]
  },
  {
   "cell_type": "code",
   "execution_count": null,
   "metadata": {
    "execution": {
     "iopub.execute_input": "2024-09-17T21:52:21.234867Z",
     "iopub.status.busy": "2024-09-17T21:52:21.234504Z",
     "iopub.status.idle": "2024-09-17T21:52:21.253713Z",
     "shell.execute_reply": "2024-09-17T21:52:21.252962Z",
     "shell.execute_reply.started": "2024-09-17T21:52:21.234835Z"
    },
    "trusted": true
   },
   "outputs": [],
   "source": [
    "Model.compile(optimizer='adam',loss='categorical_crossentropy' ,metrics=['accuracy'])"
   ]
  },
  {
   "cell_type": "code",
   "execution_count": null,
   "metadata": {
    "execution": {
     "iopub.execute_input": "2024-09-17T21:52:21.254876Z",
     "iopub.status.busy": "2024-09-17T21:52:21.254606Z",
     "iopub.status.idle": "2024-09-17T22:19:19.645824Z",
     "shell.execute_reply": "2024-09-17T22:19:19.6449Z",
     "shell.execute_reply.started": "2024-09-17T21:52:21.254846Z"
    },
    "trusted": true
   },
   "outputs": [],
   "source": [
    "history = Model.fit(trainGenerator,\n",
    "                    validation_data = testGenerator, \n",
    "                    epochs=50,\n",
    "#                     batch_size=64,   # we define it above inside trainGenerator\n",
    "                    verbose=1,\n",
    "                    callbacks=[tf.keras.callbacks.EarlyStopping(\n",
    "                                       patience=4,\n",
    "                                       monitor='val_accuracy',\n",
    "                                       restore_best_weights=True)])"
   ]
  },
  {
   "cell_type": "code",
   "execution_count": null,
   "metadata": {
    "execution": {
     "iopub.execute_input": "2024-09-17T22:19:19.647622Z",
     "iopub.status.busy": "2024-09-17T22:19:19.64719Z",
     "iopub.status.idle": "2024-09-17T22:19:19.680915Z",
     "shell.execute_reply": "2024-09-17T22:19:19.680076Z",
     "shell.execute_reply.started": "2024-09-17T22:19:19.647574Z"
    },
    "trusted": true
   },
   "outputs": [],
   "source": [
    "Model.summary()"
   ]
  },
  {
   "cell_type": "code",
   "execution_count": null,
   "metadata": {
    "execution": {
     "iopub.execute_input": "2024-09-17T22:19:19.682184Z",
     "iopub.status.busy": "2024-09-17T22:19:19.681926Z",
     "iopub.status.idle": "2024-09-17T22:19:19.894576Z",
     "shell.execute_reply": "2024-09-17T22:19:19.893692Z",
     "shell.execute_reply.started": "2024-09-17T22:19:19.682155Z"
    },
    "trusted": true
   },
   "outputs": [],
   "source": [
    "plt.plot(history.history['accuracy'])\n",
    "plt.plot(history.history['val_accuracy'])\n",
    "plt.title('model accuracy')\n",
    "plt.ylabel('accuracy')\n",
    "plt.xlabel('epoch')\n",
    "plt.legend(['train', 'validation'], loc='upper left')\n",
    "plt.show()"
   ]
  },
  {
   "cell_type": "markdown",
   "metadata": {},
   "source": [
    "# <a id=\"6\"></a>\n",
    "<div style=\"padding:10px;\n",
    "            color:white;\n",
    "            margin:5;\n",
    "            font-size:170%;\n",
    "            text-align:left;\n",
    "            display:fill;\n",
    "            border-radius:15px;\n",
    "            background-color:#294B8E;\n",
    "            overflow:hidden;\n",
    "            font-weight:700\">6. Evaluation</div>"
   ]
  },
  {
   "cell_type": "code",
   "execution_count": null,
   "metadata": {
    "execution": {
     "iopub.execute_input": "2024-09-17T22:19:19.896587Z",
     "iopub.status.busy": "2024-09-17T22:19:19.895877Z",
     "iopub.status.idle": "2024-09-17T22:19:27.525265Z",
     "shell.execute_reply": "2024-09-17T22:19:27.52448Z",
     "shell.execute_reply.started": "2024-09-17T22:19:19.89652Z"
    },
    "trusted": true
   },
   "outputs": [],
   "source": [
    "predictions = Model.predict(testGenerator)"
   ]
  },
  {
   "cell_type": "code",
   "execution_count": null,
   "metadata": {
    "execution": {
     "iopub.execute_input": "2024-09-17T22:19:27.52686Z",
     "iopub.status.busy": "2024-09-17T22:19:27.526529Z",
     "iopub.status.idle": "2024-09-17T22:19:27.533189Z",
     "shell.execute_reply": "2024-09-17T22:19:27.532221Z",
     "shell.execute_reply.started": "2024-09-17T22:19:27.526821Z"
    },
    "trusted": true
   },
   "outputs": [],
   "source": [
    "trainGenerator.class_indices"
   ]
  },
  {
   "cell_type": "code",
   "execution_count": null,
   "metadata": {
    "execution": {
     "iopub.execute_input": "2024-09-17T22:19:27.534704Z",
     "iopub.status.busy": "2024-09-17T22:19:27.5344Z",
     "iopub.status.idle": "2024-09-17T22:19:27.542771Z",
     "shell.execute_reply": "2024-09-17T22:19:27.541837Z",
     "shell.execute_reply.started": "2024-09-17T22:19:27.534671Z"
    },
    "trusted": true
   },
   "outputs": [],
   "source": [
    "trueClasses = testGenerator.classes\n",
    "trueClasses[:10]"
   ]
  },
  {
   "cell_type": "code",
   "execution_count": null,
   "metadata": {
    "execution": {
     "iopub.execute_input": "2024-09-17T22:19:27.544114Z",
     "iopub.status.busy": "2024-09-17T22:19:27.54381Z",
     "iopub.status.idle": "2024-09-17T22:19:27.552437Z",
     "shell.execute_reply": "2024-09-17T22:19:27.551473Z",
     "shell.execute_reply.started": "2024-09-17T22:19:27.544082Z"
    },
    "trusted": true
   },
   "outputs": [],
   "source": [
    "predictedClasses = predictions.argmax(axis=-1)\n",
    "predictedClasses[:10]"
   ]
  },
  {
   "cell_type": "code",
   "execution_count": null,
   "metadata": {
    "execution": {
     "iopub.execute_input": "2024-09-17T22:19:27.553797Z",
     "iopub.status.busy": "2024-09-17T22:19:27.553465Z",
     "iopub.status.idle": "2024-09-17T22:19:30.041288Z",
     "shell.execute_reply": "2024-09-17T22:19:30.040381Z",
     "shell.execute_reply.started": "2024-09-17T22:19:27.553764Z"
    },
    "trusted": true
   },
   "outputs": [],
   "source": [
    "test_loss, test_accuracy = Model.evaluate(testGenerator)\n",
    "test_accuracy"
   ]
  },
  {
   "cell_type": "code",
   "execution_count": null,
   "metadata": {
    "execution": {
     "iopub.execute_input": "2024-09-17T22:19:30.04285Z",
     "iopub.status.busy": "2024-09-17T22:19:30.042518Z",
     "iopub.status.idle": "2024-09-17T22:19:30.320235Z",
     "shell.execute_reply": "2024-09-17T22:19:30.319289Z",
     "shell.execute_reply.started": "2024-09-17T22:19:30.042816Z"
    },
    "trusted": true
   },
   "outputs": [],
   "source": [
    "CM = confusion_matrix(trueClasses, predictedClasses)\n",
    "sns.heatmap(CM, center = True,cmap='terrain',annot=True ,fmt='.5g')\n",
    "plt.show()"
   ]
  },
  {
   "cell_type": "code",
   "execution_count": null,
   "metadata": {
    "execution": {
     "iopub.execute_input": "2024-09-17T22:19:30.321742Z",
     "iopub.status.busy": "2024-09-17T22:19:30.321447Z",
     "iopub.status.idle": "2024-09-17T22:19:30.335446Z",
     "shell.execute_reply": "2024-09-17T22:19:30.334578Z",
     "shell.execute_reply.started": "2024-09-17T22:19:30.32171Z"
    },
    "trusted": true
   },
   "outputs": [],
   "source": [
    "ClassificationReport = classification_report(trueClasses, predictedClasses)\n",
    "print('Classification Report is : \\n', ClassificationReport )"
   ]
  },
  {
   "cell_type": "markdown",
   "metadata": {},
   "source": [
    "# <a id=\"7\"></a>\n",
    "<div style=\"padding:10px;\n",
    "            color:white;\n",
    "            margin:5;\n",
    "            font-size:170%;\n",
    "            text-align:left;\n",
    "            display:fill;\n",
    "            border-radius:15px;\n",
    "            background-color:#294B8E;\n",
    "            overflow:hidden;\n",
    "            font-weight:700\">7. Predected Images</div>"
   ]
  },
  {
   "cell_type": "code",
   "execution_count": null,
   "metadata": {
    "execution": {
     "iopub.execute_input": "2024-09-17T22:19:30.337145Z",
     "iopub.status.busy": "2024-09-17T22:19:30.336854Z",
     "iopub.status.idle": "2024-09-17T22:19:34.870922Z",
     "shell.execute_reply": "2024-09-17T22:19:34.869938Z",
     "shell.execute_reply.started": "2024-09-17T22:19:30.337113Z"
    },
    "trusted": true
   },
   "outputs": [],
   "source": [
    "\n",
    "images = []\n",
    "predictedClasses = []\n",
    "trueClasses = []\n",
    "\n",
    "\n",
    "class_labels = list(testGenerator.class_indices.keys())\n",
    "\n",
    "for i in range(len(testGenerator)):\n",
    "    img_batch, true_labels_batch = next(testGenerator)  # Get next batch\n",
    "    true_class_idx = np.argmax(true_labels_batch[0])  # Get the true class index\n",
    "    \n",
    "    # Predict the class for the image\n",
    "    prediction = Model.predict(img_batch)\n",
    "    predicted_class_idx = np.argmax(prediction[0])  # Get the predicted class index\n",
    "    \n",
    "    # Convert the class indices to class labels\n",
    "    predicted_class = class_labels[predicted_class_idx]\n",
    "    true_class = class_labels[true_class_idx]\n",
    "    \n",
    "    images.append(np.squeeze(img_batch[0]))\n",
    "    predictedClasses.append(predicted_class)\n",
    "    trueClasses.append(true_class)\n",
    "    \n",
    "    if i >= 24:  # For example, only plot 24 images\n",
    "        break"
   ]
  },
  {
   "cell_type": "code",
   "execution_count": null,
   "metadata": {
    "execution": {
     "iopub.execute_input": "2024-09-17T22:19:34.872714Z",
     "iopub.status.busy": "2024-09-17T22:19:34.872349Z",
     "iopub.status.idle": "2024-09-17T22:19:38.085867Z",
     "shell.execute_reply": "2024-09-17T22:19:38.084773Z",
     "shell.execute_reply.started": "2024-09-17T22:19:34.872677Z"
    },
    "trusted": true
   },
   "outputs": [],
   "source": [
    "fig, axs = plt.subplots(3, 8, figsize=(25, 10))\n",
    "\n",
    "\n",
    "axs = axs.flatten()\n",
    "\n",
    "for ax,img , pred , true in zip(axs , images , predictedClasses , trueClasses):\n",
    "    ax.imshow(img)\n",
    "    ax.set_title(f\"Pred: {pred}, True: {true}\" ,fontsize=14)\n",
    "    ax.axis('off')\n",
    "    \n",
    "plt.tight_layout()\n",
    "plt.show()"
   ]
  },
  {
   "cell_type": "markdown",
   "metadata": {},
   "source": [
    "### If these kernels impress you,give them an <font size=\"+3\" color=\"red\"><b>Upvote</b></font>.<br>"
   ]
  },
  {
   "cell_type": "markdown",
   "metadata": {},
   "source": [
    "<a href=\"#toc\" class=\"btn btn-success btn-lg active\" role=\"button\" aria-pressed=\"true\" style=\"color:white\" data-toggle=\"popover\" title=\"go to Colors\">Go to TOP</a>"
   ]
  }
 ],
 "metadata": {
  "kaggle": {
   "accelerator": "none",
   "dataSources": [
    {
     "datasetId": 81794,
     "sourceId": 189983,
     "sourceType": "datasetVersion"
    },
    {
     "datasetId": 1115942,
     "sourceId": 1874598,
     "sourceType": "datasetVersion"
    }
   ],
   "dockerImageVersionId": 30761,
   "isGpuEnabled": false,
   "isInternetEnabled": false,
   "language": "python",
   "sourceType": "notebook"
  },
  "kernelspec": {
   "display_name": "Python 3",
   "language": "python",
   "name": "python3"
  },
  "language_info": {
   "codemirror_mode": {
    "name": "ipython",
    "version": 3
   },
   "file_extension": ".py",
   "mimetype": "text/x-python",
   "name": "python",
   "nbconvert_exporter": "python",
   "pygments_lexer": "ipython3",
   "version": "3.10.4"
  }
 },
 "nbformat": 4,
 "nbformat_minor": 4
}
